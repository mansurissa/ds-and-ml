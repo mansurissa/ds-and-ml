{
 "cells": [
  {
   "cell_type": "code",
   "execution_count": null,
   "metadata": {},
   "outputs": [],
   "source": [
    "import pandas as pd\n",
    "\n",
    "fed_files = [\"MORTGAGE30US.csv\", \"RRVRUSQ156N.csv\", \"CPIAUCSL.csv\"]\n",
    "dfs = [pd.read_csv(f, parse_dates=True, index_col=0) for f in fed_files]"
   ]
  },
  {
   "cell_type": "code",
   "execution_count": null,
   "metadata": {},
   "outputs": [],
   "source": [
    "fed_data = pd.concat(dfs, axis=1)\n",
    "fed_data =fed_data.ffill()\n",
    "fed_data.tail(40)"
   ]
  },
  {
   "cell_type": "code",
   "execution_count": null,
   "metadata": {},
   "outputs": [],
   "source": [
    "zillow_files = ['Metro_median_sale_price_uc_sfrcondo_week.csv', 'Metro_zhvi_uc_sfrcondo_tier_0.33_0.67_month.csv' ]\n",
    "\n",
    "dfs = [pd.read_csv(f) for f in zillow_files]"
   ]
  },
  {
   "cell_type": "code",
   "execution_count": null,
   "metadata": {},
   "outputs": [],
   "source": [
    "dfs = [pd.DataFrame(df.iloc[0,5:]) for df in dfs]\n",
    "for df in dfs:\n",
    "    df.index = pd.to_datetime(df.index)\n",
    "    df['month'] = df.index.to_period('M')"
   ]
  },
  {
   "cell_type": "code",
   "execution_count": null,
   "metadata": {},
   "outputs": [],
   "source": [
    "dfs[1]"
   ]
  },
  {
   "cell_type": "code",
   "execution_count": null,
   "metadata": {},
   "outputs": [],
   "source": [
    "price_data = dfs[0].merge(dfs[1], on='month')\n",
    "price_data.index = dfs[0].index\n",
    "price_data"
   ]
  },
  {
   "cell_type": "code",
   "execution_count": null,
   "metadata": {},
   "outputs": [],
   "source": [
    "del price_data['month']\n",
    "price_data.columns = ['price', 'value']\n",
    "price_data"
   ]
  },
  {
   "cell_type": "code",
   "execution_count": null,
   "metadata": {},
   "outputs": [],
   "source": [
    "fed_data = fed_data.dropna()\n",
    "fed_data.tail(50)"
   ]
  },
  {
   "cell_type": "code",
   "execution_count": null,
   "metadata": {},
   "outputs": [],
   "source": [
    "from datetime import timedelta\n",
    "fed_data.index = fed_data.index + timedelta(days=2)\n",
    "fed_data"
   ]
  },
  {
   "cell_type": "code",
   "execution_count": null,
   "metadata": {},
   "outputs": [],
   "source": [
    "\n",
    "price_data = fed_data.merge(price_data, left_index=True, right_index=True)\n",
    "price_data.columns = ['interest', 'vacancy', 'cpi', 'price', 'value']\n",
    "price_data"
   ]
  },
  {
   "cell_type": "code",
   "execution_count": null,
   "metadata": {},
   "outputs": [],
   "source": [
    "price_data.plot.line(x='price', use_index=True)"
   ]
  },
  {
   "cell_type": "code",
   "execution_count": null,
   "metadata": {},
   "outputs": [],
   "source": [
    "price_data['adj_price'] = price_data['price'] / price_data['cpi']*100\n",
    "price_data.plot.line(x='adj_price',  use_index=True)"
   ]
  },
  {
   "cell_type": "code",
   "execution_count": null,
   "metadata": {},
   "outputs": [],
   "source": [
    "price_data['adj_value'] = price_data['value'] / price_data['cpi']*100\n",
    "price_data['next_quarter'] = price_data['adj_price'].shift(-13)\n",
    "price_data"
   ]
  },
  {
   "cell_type": "code",
   "execution_count": null,
   "metadata": {},
   "outputs": [],
   "source": [
    "price_data['change'] = (price_data['next_quarter'] > price_data['adj_price']).astype(int)\n",
    "price_data['change'].value_counts()"
   ]
  },
  {
   "cell_type": "code",
   "execution_count": null,
   "metadata": {},
   "outputs": [],
   "source": [
    "predictors = ['interest', 'vacancy', 'adj_price', 'adj_value']\n",
    "target = 'change'"
   ]
  },
  {
   "cell_type": "code",
   "execution_count": null,
   "metadata": {},
   "outputs": [],
   "source": [
    "from sklearn.ensemble import RandomForestClassifier\n",
    "from sklearn.metrics import accuracy_score\n",
    "import numpy as np"
   ]
  },
  {
   "cell_type": "code",
   "execution_count": null,
   "metadata": {},
   "outputs": [],
   "source": [
    "def predict (train, test,predictors, target):\n",
    "    rf = RandomForestClassifier(min_samples_split=10, random_state=1)\n",
    "    rf.fit(train[predictors], train[target])\n",
    "    preds = rf.predict(test[predictors])\n",
    "    return preds\n",
    "\n",
    "def backtests (data, predictors, target,START=100, STEP=10):\n",
    "    all_preds = []\n",
    "    for i in range(START, data.shape[0], STEP):\n",
    "        train = price_data.iloc[:i]\n",
    "        test = price_data.iloc[i:(i+STEP)]\n",
    "        all_preds.append(predict(train, test, predictors, target))\n",
    "    preds = np.concatenate(all_preds)\n",
    "    accuracy = accuracy_score(data.iloc[START:(START + len(preds))][target], preds)\n",
    "    return preds, accuracy"
   ]
  },
  {
   "cell_type": "code",
   "execution_count": 105,
   "metadata": {},
   "outputs": [
    {
     "data": {
      "text/plain": [
       "0.6283464566929133"
      ]
     },
     "execution_count": 105,
     "metadata": {},
     "output_type": "execute_result"
    }
   ],
   "source": [
    "preds, accuracy = backtests(price_data, predictors, target)\n",
    "accuracy"
   ]
  },
  {
   "cell_type": "code",
   "execution_count": null,
   "metadata": {},
   "outputs": [],
   "source": [
    "yearly =price_data.rolling(52,min_periods=1).mean()\n",
    "yearly"
   ]
  },
  {
   "cell_type": "code",
   "execution_count": null,
   "metadata": {},
   "outputs": [],
   "source": [
    "year_ratios = [p+\"_year\" for p in predictors]\n",
    "price_data[year_ratios] = yearly[predictors]/yearly[predictors]\n",
    "price_data"
   ]
  },
  {
   "cell_type": "code",
   "execution_count": 104,
   "metadata": {},
   "outputs": [
    {
     "data": {
      "text/plain": [
       "0.5984251968503937"
      ]
     },
     "execution_count": 104,
     "metadata": {},
     "output_type": "execute_result"
    }
   ],
   "source": [
    "preds, accuracy = backtests(price_data, predictors + year_ratios, target)\n",
    "accuracy"
   ]
  }
 ],
 "metadata": {
  "kernelspec": {
   "display_name": "Python 3",
   "language": "python",
   "name": "python3"
  },
  "language_info": {
   "codemirror_mode": {
    "name": "ipython",
    "version": 3
   },
   "file_extension": ".py",
   "mimetype": "text/x-python",
   "name": "python",
   "nbconvert_exporter": "python",
   "pygments_lexer": "ipython3",
   "version": "3.9.2"
  }
 },
 "nbformat": 4,
 "nbformat_minor": 2
}
