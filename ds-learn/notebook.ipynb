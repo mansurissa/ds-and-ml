{
 "cells": [
  {
   "cell_type": "code",
   "execution_count": null,
   "metadata": {},
   "outputs": [],
   "source": [
    "import pandas as pd\n",
    "arr = {\"letters\":['a', 'b', 'c', 'd', 'e', 'f', 'g', 'h'],\n",
    "       \"numbers\":[1, 2, 3, 4, 5, 6, 7, 8],\n",
    "       \"symbols\":['!', '@', '#', '$', '%', '^', '&', '*']\n",
    "       }\n",
    "serie = pd.DataFrame(arr)\n",
    "serie"
   ]
  },
  {
   "cell_type": "code",
   "execution_count": null,
   "metadata": {},
   "outputs": [],
   "source": [
    "import pandas as pd\n",
    "washers_df = pd.read_csv('washers.csv')\n",
    "washers_df.head()\n",
    "washers_df[['BrandName']].value_counts(normalize=True) * 100\n",
    "washers_df.groupby('BrandName')[['Volume']].agg(['mean', 'median', 'max', 'min'])"
   ]
  },
  {
   "cell_type": "code",
   "execution_count": null,
   "metadata": {},
   "outputs": [],
   "source": [
    "import pandas as pd\n",
    "import matplotlib.pyplot as plt\n",
    "\n",
    "vehicles_df = pd.read_csv('vehicles.csv')\n",
    "vehicles_df.head()\n",
    "vehicles_df.plot(kind='hist', x='citympg', y='co2emissions', color='red', grid=True, xlabel='City MPG', ylabel='CO2 Emissions')\n",
    "vehicles_df.pivot(columns='drive', values='co2emissions').plot(kind='box')\n",
    "vehicles_df.groupby('year')[['drive',]].value_counts().unstack().plot(kind='bar', stacked=True)"
   ]
  },
  {
   "cell_type": "code",
   "execution_count": null,
   "metadata": {},
   "outputs": [],
   "source": [
    "import pandas as pd\n",
    "students = pd.read_excel('students.xlsx')\n",
    "students=students.fillna({'Age':students['Age'].mean(), \"Gender\":'Female'})\n",
    "students"
   ]
  },
  {
   "cell_type": "code",
   "execution_count": null,
   "metadata": {},
   "outputs": [],
   "source": [
    "from sklearn.preprocessing import MinMaxScaler\n",
    "from sklearn.preprocessing import StandardScaler\n",
    "vehicles = pd.read_csv('vehicles.csv')\n",
    "\n",
    "c02emissions_mm = pd.DataFrame(StandardScaler().fit_transform( vehicles[['co2emissions']]), columns=['co2emissions'])\n",
    "c02emissions_mm.describe()\n",
    "\n",
    "c02emissions_mm.plot(kind='hist', color='red', xlabel='CO2 Emissions', ylabel='Frequency')\n",
    "\n"
   ]
  },
  {
   "cell_type": "code",
   "execution_count": 118,
   "metadata": {},
   "outputs": [
    {
     "data": {
      "text/plain": [
       "['temperature', 'humidity', 'windspeed']"
      ]
     },
     "execution_count": 118,
     "metadata": {},
     "output_type": "execute_result"
    }
   ],
   "source": [
    "bike_data = pd.read_csv('bikes.csv')\n",
    "# bike_data.describe()\n",
    "# bike_data.plot(kind='scatter', x='temperature', y='rentals', color='red', xlabel='temperature', ylabel='rentals')\n",
    "# bike_data.plot(kind='scatter', x='humidity', y='rentals', color='red', xlabel='humidity', ylabel='rentals')\n",
    "# bike_data.plot(kind='scatter', x='windspeed', y='rentals', color='red', xlabel='windspeed', ylabel='rentals')\n",
    "\n",
    "response = 'rentals'\n",
    "x = bike_data[response]\n",
    "x\n",
    "\n",
    "columns = bike_data.columns.drop(response)\n",
    "predictors = list(bike_data[columns])\n",
    "predictors\n"
   ]
  },
  {
   "cell_type": "code",
   "execution_count": null,
   "metadata": {},
   "outputs": [],
   "source": [
    "from sklearn.linear_model import train_test_split\n",
    "from sklearn.linear_model import LinearRegression"
   ]
  }
 ],
 "metadata": {
  "kernelspec": {
   "display_name": "Python 3",
   "language": "python",
   "name": "python3"
  },
  "language_info": {
   "codemirror_mode": {
    "name": "ipython",
    "version": 3
   },
   "file_extension": ".py",
   "mimetype": "text/x-python",
   "name": "python",
   "nbconvert_exporter": "python",
   "pygments_lexer": "ipython3",
   "version": "3.9.2"
  }
 },
 "nbformat": 4,
 "nbformat_minor": 2
}
