{
 "cells": [
  {
   "cell_type": "code",
   "execution_count": null,
   "metadata": {},
   "outputs": [],
   "source": [
    "years = list((range(1995, 2024)))\n",
    "base_url = 'https://www.basketball-reference.com/awards/awards_{}.html'\n",
    "\n",
    "\n",
    "import requests\n",
    "for year in years:\n",
    "    url =  base_url.format(year)\n",
    "    data = requests.get(url)\n",
    "    with open ('pages/{}.html'.format(year), 'w+') as f:\n",
    "        f.write(data.text)\n",
    "\n"
   ]
  },
  {
   "cell_type": "code",
   "execution_count": null,
   "metadata": {},
   "outputs": [],
   "source": [
    "from bs4 import BeautifulSoup\n",
    "with open('pages/1995.html') as f:\n",
    "    page = f.read()\n",
    "    page"
   ]
  },
  {
   "cell_type": "code",
   "execution_count": null,
   "metadata": {},
   "outputs": [],
   "source": [
    "soup = BeautifulSoup(page, 'html.parser')\n",
    "over_header = soup.find('tr', class_='over_header')\n",
    "if over_header:\n",
    "    over_header.decompose()\n",
    "else:\n",
    "    print(\"Element with class 'over_header' not found.\")\n",
    "\n",
    "mvp_table = soup.find('table', id='mvp')"
   ]
  },
  {
   "cell_type": "code",
   "execution_count": null,
   "metadata": {},
   "outputs": [],
   "source": [
    "import pandas as pd\n",
    "mvp_1995 = pd.read_html(str(mvp_table))\n",
    "mvp_1995[0]"
   ]
  },
  {
   "cell_type": "code",
   "execution_count": null,
   "metadata": {},
   "outputs": [],
   "source": [
    "dfs= []\n",
    "for year in years:\n",
    "    with open('pages/{}.html'.format(year)) as f:\n",
    "        page = f.read()\n",
    "    soup = BeautifulSoup(page, 'html.parser')\n",
    "    over_header = soup.find('tr', class_='over_header')\n",
    "    over_header.decompose()\n",
    "\n",
    "    mvp_table = soup.find('table', id='mvp')\n",
    "    mvp = pd.read_html(str(mvp_table))[0]\n",
    "    mvp['Year'] = year\n",
    "\n",
    "    dfs.append(mvp)\n",
    "\n",
    "dfs"
   ]
  },
  {
   "cell_type": "code",
   "execution_count": 36,
   "metadata": {},
   "outputs": [],
   "source": [
    "mvps = pd.concat(dfs, ignore_index=True)\n",
    "mvps.to_csv('mvps.csv')"
   ]
  }
 ],
 "metadata": {
  "kernelspec": {
   "display_name": "Python 3",
   "language": "python",
   "name": "python3"
  },
  "language_info": {
   "codemirror_mode": {
    "name": "ipython",
    "version": 3
   },
   "file_extension": ".py",
   "mimetype": "text/x-python",
   "name": "python",
   "nbconvert_exporter": "python",
   "pygments_lexer": "ipython3",
   "version": "3.9.2"
  }
 },
 "nbformat": 4,
 "nbformat_minor": 2
}
